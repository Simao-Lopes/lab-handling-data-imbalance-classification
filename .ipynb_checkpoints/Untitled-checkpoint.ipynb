{
 "cells": [
  {
   "cell_type": "markdown",
   "id": "61db2136",
   "metadata": {},
   "source": [
    "# Lab | Handling Data Imbalance in Classification Models\n",
    "\n",
    "For this lab and in the next lessons we will use the dataset 'Healthcare For All' building a model to predict who will donate (TargetB) and how much they will give (TargetD). You will be using `files_for_lab/learningSet.csv` file which you have already downloaded from class.\n",
    "\n",
    "### Scenario\n",
    "\n",
    "You are revisiting the Healthcare for All Case Study. You are provided with this historical data about Donors and how much they donated. Your task is to build a machine learning model that will help the company identify people who are more likely to donate and then try to predict the donation amount.\n",
    "\n",
    "### Instructions\n",
    "\n",
    "In this lab, we will first take a look at the degree of imbalance in the data and correct it using the techniques we learned in the class.\n",
    "\n",
    "Here is the list of steps to be followed (building a simple model without balancing the data):\n",
    "\n",
    "- Import the required libraries and modules that you would need.\n",
    "- Read that data into Python and call the dataframe `donors`.\n",
    "- Check the datatypes of all the columns in the data. \n",
    "- Check for null values in the dataframe. Replace the null values using the methods learned in class.\n",
    "- Split the data into numerical and catagorical.  Decide if any columns need their dtype changed.\n",
    "  \n",
    "  - Split the data into a training set and a test set.\n",
    "  - Scale the features either by using normalizer or a standard scaler.\n",
    "  - Encode the categorical features using One-Hot Encoding or Ordinal Encoding\n",
    "  - Fit a logistic regression model on the training data.\n",
    "  - Check the accuracy on the test data.\n",
    "\n",
    "**Note**: So far we have not balanced the data.\n",
    "\n",
    "Managing imbalance in the dataset\n",
    "\n",
    "- Check for the imbalance.\n",
    "- Use the resampling strategies used in class for upsampling and downsampling to create a balance between the two classes.\n",
    "- Each time fit the model and see how the accuracy of the model has changed."
   ]
  },
  {
   "cell_type": "markdown",
   "id": "96c4090c",
   "metadata": {},
   "source": [
    "**Import the required libraries and modules that you would need.**"
   ]
  },
  {
   "cell_type": "code",
   "execution_count": 82,
   "id": "13c45e52",
   "metadata": {
    "ExecuteTime": {
     "end_time": "2022-10-19T21:45:34.486122Z",
     "start_time": "2022-10-19T21:45:34.087433Z"
    }
   },
   "outputs": [],
   "source": [
    "import pandas as pd\n",
    "import numpy as np\n",
    "from sklearn.preprocessing import MinMaxScaler \n",
    "from sklearn.preprocessing import OneHotEncoder\n",
    "from sklearn.metrics import accuracy_score\n",
    "from sklearn.model_selection import train_test_split\n",
    "from sklearn.linear_model import LogisticRegression\n",
    "from sklearn.metrics import confusion_matrix\n",
    "from sklearn.metrics import f1_score\n",
    "import matplotlib.pyplot as plt\n",
    "from sklearn.utils import resample\n",
    "from imblearn.over_sampling import SMOTE\n",
    "\n",
    "pd.set_option('display.max_columns', 15)\n",
    "pd.set_option('display.max_rows', 15)"
   ]
  },
  {
   "cell_type": "markdown",
   "id": "76da6aa1",
   "metadata": {},
   "source": [
    "    - Read that data into Python and call the dataframe `donors`.\n",
    "    - Check the datatypes of all the columns in the data. \n",
    "    - Check for null values in the dataframe. Replace the null values using the methods learned in class.\n",
    "    - Split the data into numerical and catagorical.  Decide if any columns need their dtype changed."
   ]
  },
  {
   "cell_type": "code",
   "execution_count": 2,
   "id": "e3bbd7b6",
   "metadata": {
    "ExecuteTime": {
     "end_time": "2022-10-19T20:59:48.144773Z",
     "start_time": "2022-10-19T20:59:46.756516Z"
    }
   },
   "outputs": [],
   "source": [
    "y = pd.read_csv('target7_02.csv')\n",
    "\n",
    "numerical = pd.read_csv('numerical7_02.csv')\n",
    "categorical = pd.read_csv('categorical7_02.csv')"
   ]
  },
  {
   "cell_type": "code",
   "execution_count": 3,
   "id": "5dece284",
   "metadata": {
    "ExecuteTime": {
     "end_time": "2022-10-19T20:59:48.208832Z",
     "start_time": "2022-10-19T20:59:48.145775Z"
    }
   },
   "outputs": [],
   "source": [
    "y = y['TARGET_B']\n",
    "numerical = numerical.drop(columns = 'Unnamed: 0')\n",
    "categorical = categorical.drop(columns = 'Unnamed: 0')"
   ]
  },
  {
   "cell_type": "code",
   "execution_count": 4,
   "id": "d2de0148",
   "metadata": {
    "ExecuteTime": {
     "end_time": "2022-10-19T20:59:48.272595Z",
     "start_time": "2022-10-19T20:59:48.209833Z"
    }
   },
   "outputs": [
    {
     "data": {
      "text/html": [
       "<div>\n",
       "<style scoped>\n",
       "    .dataframe tbody tr th:only-of-type {\n",
       "        vertical-align: middle;\n",
       "    }\n",
       "\n",
       "    .dataframe tbody tr th {\n",
       "        vertical-align: top;\n",
       "    }\n",
       "\n",
       "    .dataframe thead th {\n",
       "        text-align: right;\n",
       "    }\n",
       "</style>\n",
       "<table border=\"1\" class=\"dataframe\">\n",
       "  <thead>\n",
       "    <tr style=\"text-align: right;\">\n",
       "      <th></th>\n",
       "      <th>count</th>\n",
       "      <th>val</th>\n",
       "    </tr>\n",
       "  </thead>\n",
       "  <tbody>\n",
       "    <tr>\n",
       "      <th>316</th>\n",
       "      <td>NEXTDATE</td>\n",
       "      <td>9973</td>\n",
       "    </tr>\n",
       "  </tbody>\n",
       "</table>\n",
       "</div>"
      ],
      "text/plain": [
       "        count   val\n",
       "316  NEXTDATE  9973"
      ]
     },
     "metadata": {},
     "output_type": "display_data"
    }
   ],
   "source": [
    "# Checking columns with nans\n",
    "def nan_check(data):\n",
    "    nans = pd.DataFrame(data.isna().sum()).reset_index()\n",
    "    nans.columns = ['count', 'val']\n",
    "    display(nans[nans['val']>0])\n",
    "    return None\n",
    "\n",
    "nan_check(numerical)"
   ]
  },
  {
   "cell_type": "code",
   "execution_count": 5,
   "id": "993ca7c4",
   "metadata": {
    "ExecuteTime": {
     "end_time": "2022-10-19T20:59:48.288602Z",
     "start_time": "2022-10-19T20:59:48.273597Z"
    }
   },
   "outputs": [],
   "source": [
    "# filling the next date of donation to 0 for all donors that didn't made a new donation\n",
    "numerical['NEXTDATE'] = numerical['NEXTDATE'].fillna(0)"
   ]
  },
  {
   "cell_type": "code",
   "execution_count": 6,
   "id": "2d906e3b",
   "metadata": {
    "ExecuteTime": {
     "end_time": "2022-10-19T20:59:48.304613Z",
     "start_time": "2022-10-19T20:59:48.289604Z"
    }
   },
   "outputs": [
    {
     "data": {
      "text/plain": [
       "STATE        object\n",
       "CLUSTER       int64\n",
       "HOMEOWNR     object\n",
       "GENDER       object\n",
       "DATASRCE      int64\n",
       "SOLIH       float64\n",
       "VETERANS     object\n",
       "RFA_2R       object\n",
       "RFA_2A       object\n",
       "GEOCODE2     object\n",
       "DOMAIN_A     object\n",
       "DOMAIN_B      int64\n",
       "dtype: object"
      ]
     },
     "execution_count": 6,
     "metadata": {},
     "output_type": "execute_result"
    }
   ],
   "source": [
    "categorical.dtypes"
   ]
  },
  {
   "cell_type": "code",
   "execution_count": 7,
   "id": "5da550f8",
   "metadata": {
    "ExecuteTime": {
     "end_time": "2022-10-19T20:59:48.320382Z",
     "start_time": "2022-10-19T20:59:48.305614Z"
    }
   },
   "outputs": [
    {
     "data": {
      "text/plain": [
       "STATE        object\n",
       "CLUSTER       int64\n",
       "HOMEOWNR     object\n",
       "GENDER       object\n",
       "DATASRCE      int64\n",
       "SOLIH       float64\n",
       "VETERANS     object\n",
       "RFA_2R       object\n",
       "RFA_2A       object\n",
       "GEOCODE2     object\n",
       "DOMAIN_A     object\n",
       "DOMAIN_B      int64\n",
       "dtype: object"
      ]
     },
     "execution_count": 7,
     "metadata": {},
     "output_type": "execute_result"
    }
   ],
   "source": [
    "categorical.dtypes"
   ]
  },
  {
   "cell_type": "code",
   "execution_count": 8,
   "id": "8866928d",
   "metadata": {
    "ExecuteTime": {
     "end_time": "2022-10-19T20:59:48.416472Z",
     "start_time": "2022-10-19T20:59:48.321384Z"
    }
   },
   "outputs": [
    {
     "data": {
      "text/html": [
       "<div>\n",
       "<style scoped>\n",
       "    .dataframe tbody tr th:only-of-type {\n",
       "        vertical-align: middle;\n",
       "    }\n",
       "\n",
       "    .dataframe tbody tr th {\n",
       "        vertical-align: top;\n",
       "    }\n",
       "\n",
       "    .dataframe thead th {\n",
       "        text-align: right;\n",
       "    }\n",
       "</style>\n",
       "<table border=\"1\" class=\"dataframe\">\n",
       "  <thead>\n",
       "    <tr style=\"text-align: right;\">\n",
       "      <th></th>\n",
       "      <th>count</th>\n",
       "      <th>val</th>\n",
       "    </tr>\n",
       "  </thead>\n",
       "  <tbody>\n",
       "    <tr>\n",
       "      <th>5</th>\n",
       "      <td>SOLIH</td>\n",
       "      <td>89212</td>\n",
       "    </tr>\n",
       "    <tr>\n",
       "      <th>6</th>\n",
       "      <td>VETERANS</td>\n",
       "      <td>84986</td>\n",
       "    </tr>\n",
       "  </tbody>\n",
       "</table>\n",
       "</div>"
      ],
      "text/plain": [
       "      count    val\n",
       "5     SOLIH  89212\n",
       "6  VETERANS  84986"
      ]
     },
     "metadata": {},
     "output_type": "display_data"
    }
   ],
   "source": [
    "nan_check(categorical)"
   ]
  },
  {
   "cell_type": "code",
   "execution_count": 9,
   "id": "4ae84d3a",
   "metadata": {
    "ExecuteTime": {
     "end_time": "2022-10-19T20:59:48.432488Z",
     "start_time": "2022-10-19T20:59:48.417475Z"
    }
   },
   "outputs": [
    {
     "data": {
      "text/plain": [
       "NaN     89212\n",
       "12.0     5693\n",
       "0.0       296\n",
       "1.0        94\n",
       "2.0        75\n",
       "3.0        19\n",
       "4.0        16\n",
       "6.0         7\n",
       "Name: SOLIH, dtype: int64"
      ]
     },
     "execution_count": 9,
     "metadata": {},
     "output_type": "execute_result"
    }
   ],
   "source": [
    "categorical.SOLIH.value_counts(dropna=False)"
   ]
  },
  {
   "cell_type": "markdown",
   "id": "75ee7dd3",
   "metadata": {},
   "source": [
    "Assingning nans to a diferent number just to symbolize that this donors can be mailed. \n",
    "Since we will one hot encode the number itself is meaningless"
   ]
  },
  {
   "cell_type": "code",
   "execution_count": 10,
   "id": "45fc24fd",
   "metadata": {
    "ExecuteTime": {
     "end_time": "2022-10-19T20:59:48.447637Z",
     "start_time": "2022-10-19T20:59:48.434491Z"
    }
   },
   "outputs": [
    {
     "data": {
      "text/plain": [
       "13.0    89212\n",
       "12.0     5693\n",
       "0.0       296\n",
       "1.0        94\n",
       "2.0        75\n",
       "3.0        19\n",
       "4.0        16\n",
       "6.0         7\n",
       "Name: SOLIH, dtype: int64"
      ]
     },
     "execution_count": 10,
     "metadata": {},
     "output_type": "execute_result"
    }
   ],
   "source": [
    "categorical.SOLIH = categorical.SOLIH.fillna(13)\n",
    "categorical.SOLIH.value_counts(dropna=False)"
   ]
  },
  {
   "cell_type": "markdown",
   "id": "a14ce7c1",
   "metadata": {},
   "source": [
    "**SOLICITATION LIMIT CODE IN HOUSE** \n",
    "      \n",
    "=can be mailed (Default)    \n",
    "00=Do Not Solicit    \n",
    "01=one solicitation per year    \n",
    "02=two solicitations per year     \n",
    "03=three solicitations per year    \n",
    "04=four solicitations per year    \n",
    "05=five solicitations per year    \n",
    "06=six solicitations per year    \n",
    "12=twelve solicitations per year   "
   ]
  },
  {
   "cell_type": "code",
   "execution_count": 11,
   "id": "117451dc",
   "metadata": {
    "ExecuteTime": {
     "end_time": "2022-10-19T20:59:48.462652Z",
     "start_time": "2022-10-19T20:59:48.448639Z"
    }
   },
   "outputs": [
    {
     "data": {
      "text/plain": [
       "NaN    84986\n",
       "Y      10426\n",
       "Name: VETERANS, dtype: int64"
      ]
     },
     "execution_count": 11,
     "metadata": {},
     "output_type": "execute_result"
    }
   ],
   "source": [
    "categorical.VETERANS.value_counts(dropna=False)"
   ]
  },
  {
   "cell_type": "code",
   "execution_count": 12,
   "id": "42ad33af",
   "metadata": {
    "ExecuteTime": {
     "end_time": "2022-10-19T20:59:48.478666Z",
     "start_time": "2022-10-19T20:59:48.463652Z"
    }
   },
   "outputs": [
    {
     "data": {
      "text/plain": [
       "N    84986\n",
       "Y    10426\n",
       "Name: VETERANS, dtype: int64"
      ]
     },
     "execution_count": 12,
     "metadata": {},
     "output_type": "execute_result"
    }
   ],
   "source": [
    "categorical.VETERANS = categorical.VETERANS.fillna('N')\n",
    "categorical.VETERANS= categorical.VETERANS.astype(str)\n",
    "categorical.VETERANS.value_counts(dropna=False)"
   ]
  },
  {
   "cell_type": "code",
   "execution_count": 13,
   "id": "e92248a5",
   "metadata": {
    "ExecuteTime": {
     "end_time": "2022-10-19T20:59:48.494671Z",
     "start_time": "2022-10-19T20:59:48.479667Z"
    }
   },
   "outputs": [
    {
     "data": {
      "text/plain": [
       "3    64829\n",
       "2    23455\n",
       "1     7128\n",
       "Name: DATASRCE, dtype: int64"
      ]
     },
     "execution_count": 13,
     "metadata": {},
     "output_type": "execute_result"
    }
   ],
   "source": [
    "categorical.DATASRCE.value_counts()"
   ]
  },
  {
   "cell_type": "code",
   "execution_count": 14,
   "id": "34dc10d3",
   "metadata": {
    "ExecuteTime": {
     "end_time": "2022-10-19T20:59:48.669830Z",
     "start_time": "2022-10-19T20:59:48.495672Z"
    }
   },
   "outputs": [
    {
     "data": {
      "text/plain": [
       "STATE       object\n",
       "CLUSTER     object\n",
       "HOMEOWNR    object\n",
       "GENDER      object\n",
       "DATASRCE    object\n",
       "SOLIH       object\n",
       "VETERANS    object\n",
       "RFA_2R      object\n",
       "RFA_2A      object\n",
       "GEOCODE2    object\n",
       "DOMAIN_A    object\n",
       "DOMAIN_B    object\n",
       "dtype: object"
      ]
     },
     "execution_count": 14,
     "metadata": {},
     "output_type": "execute_result"
    }
   ],
   "source": [
    "categorical = categorical.applymap(str)\n",
    "categorical.dtypes"
   ]
  },
  {
   "cell_type": "markdown",
   "id": "c3a3d291",
   "metadata": {},
   "source": [
    "**Split the data into a training set and a test set.**"
   ]
  },
  {
   "cell_type": "code",
   "execution_count": 15,
   "id": "2eb6e1e6",
   "metadata": {
    "ExecuteTime": {
     "end_time": "2022-10-19T20:59:48.973106Z",
     "start_time": "2022-10-19T20:59:48.670832Z"
    }
   },
   "outputs": [],
   "source": [
    "X = pd.concat([numerical, categorical], axis = 1)\n",
    "X_train, X_test, y_train, y_test = train_test_split(X, y, test_size=0.25, random_state = 1)"
   ]
  },
  {
   "cell_type": "code",
   "execution_count": 16,
   "id": "92d43a12",
   "metadata": {
    "ExecuteTime": {
     "end_time": "2022-10-19T20:59:48.989109Z",
     "start_time": "2022-10-19T20:59:48.974107Z"
    }
   },
   "outputs": [],
   "source": [
    "X_train_num = X_train.select_dtypes(np.number) \n",
    "X_train_cat = X_train.select_dtypes(object)\n",
    "X_test_num = X_test.select_dtypes(np.number)\n",
    "X_test_cat  = X_test.select_dtypes(object)"
   ]
  },
  {
   "cell_type": "code",
   "execution_count": 17,
   "id": "d62d13f6",
   "metadata": {
    "ExecuteTime": {
     "end_time": "2022-10-19T20:59:49.244307Z",
     "start_time": "2022-10-19T20:59:48.990110Z"
    }
   },
   "outputs": [],
   "source": [
    "# MinMax function to normalize continuous columns \n",
    "transformer = MinMaxScaler().fit(X_train_num)\n",
    "\n",
    "X_train_num_scaled = pd.DataFrame(transformer.transform(X_train_num), columns = X_train_num.columns)\n",
    "X_test_num_scaled = pd.DataFrame(transformer.transform(X_test_num), columns = X_test_num.columns)"
   ]
  },
  {
   "cell_type": "code",
   "execution_count": 18,
   "id": "71ebaf05",
   "metadata": {
    "ExecuteTime": {
     "end_time": "2022-10-19T20:59:49.579606Z",
     "start_time": "2022-10-19T20:59:49.245307Z"
    }
   },
   "outputs": [],
   "source": [
    "def cat_encode(data, _onehotencoder):\n",
    "\n",
    "    # one hot encoding all the columns to be one hot encoded\n",
    "    encoded = _onehotencoder.transform(data).toarray()\n",
    "    cols = _onehotencoder.get_feature_names_out(input_features=data.columns)\n",
    "    \n",
    "    # Returning a complete encoded categorical dataset\n",
    "    return pd.DataFrame(encoded, columns=cols).reset_index(drop=True)\n",
    "\n",
    "onehotencoder = OneHotEncoder(drop='first', handle_unknown = 'ignore').fit(X_train_cat)\n",
    "\n",
    "X_train_cat_encoded = cat_encode(X_train_cat, onehotencoder).reset_index(drop = True)\n",
    "X_test_cat_encoded = cat_encode(X_test_cat, onehotencoder).reset_index(drop = True)"
   ]
  },
  {
   "cell_type": "code",
   "execution_count": 19,
   "id": "2f7e2aa9",
   "metadata": {
    "ExecuteTime": {
     "end_time": "2022-10-19T20:59:49.627646Z",
     "start_time": "2022-10-19T20:59:49.580607Z"
    }
   },
   "outputs": [],
   "source": [
    "# Concatenating the datasets\n",
    "X_train_scaled = pd.concat([X_train_cat_encoded, X_train_num_scaled], axis = 1)\n",
    "X_test_scaled = pd.concat([X_test_cat_encoded, X_test_num_scaled], axis = 1)"
   ]
  },
  {
   "cell_type": "code",
   "execution_count": 53,
   "id": "27cba4ba",
   "metadata": {
    "ExecuteTime": {
     "end_time": "2022-10-19T21:20:26.285677Z",
     "start_time": "2022-10-19T21:20:26.273665Z"
    }
   },
   "outputs": [],
   "source": [
    "#reseting y indexes\n",
    "y_test = y_test.reset_index(drop = True)\n",
    "y_train = y_train.reset_index(drop = True)"
   ]
  },
  {
   "cell_type": "code",
   "execution_count": 37,
   "id": "c0f9fd90",
   "metadata": {
    "ExecuteTime": {
     "end_time": "2022-10-19T21:10:57.379802Z",
     "start_time": "2022-10-19T21:10:57.362796Z"
    }
   },
   "outputs": [],
   "source": [
    "def model(X, y, X_t):\n",
    "    # Creating the Logistic regression\n",
    "    lr = LogisticRegression(random_state=0, solver= 'saga', multi_class='multinomial').fit(X, y)\n",
    "    return lr.predict(X_t)"
   ]
  },
  {
   "cell_type": "code",
   "execution_count": 40,
   "id": "4896be33",
   "metadata": {
    "ExecuteTime": {
     "end_time": "2022-10-19T21:13:08.296770Z",
     "start_time": "2022-10-19T21:13:08.291765Z"
    }
   },
   "outputs": [],
   "source": [
    "def model_eval(Y, P):\n",
    "    print('\\033[1m'+'\\033[91m'+'      Logistics Regression\\n'+'\\033[0m')\n",
    "    array = confusion_matrix(Y, P)\n",
    "    print('             Predicted Labels')\n",
    "    print('             |      A     |     B')    \n",
    "    print('             ------------------------')\n",
    "    print('True label A |   ',array[0][0],'  |    ', array[0][1])\n",
    "    print('             ------------------------')\n",
    "    print('           B |   ',array[1][0],'   |    ', array[1][1])\n",
    "    print('\\nModel Accuracy', accuracy_score(Y, P)*100)\n",
    "    print('Model F1', f1_score(Y, P)*100)\n",
    "    return None\n"
   ]
  },
  {
   "cell_type": "code",
   "execution_count": 54,
   "id": "a6aca1d1",
   "metadata": {
    "ExecuteTime": {
     "end_time": "2022-10-19T21:21:04.950569Z",
     "start_time": "2022-10-19T21:20:30.976696Z"
    }
   },
   "outputs": [
    {
     "name": "stdout",
     "output_type": "stream",
     "text": [
      "\u001b[1m\u001b[91m      Logistics Regression\n",
      "\u001b[0m\n",
      "             Predicted Labels\n",
      "             |      A     |     B\n",
      "             ------------------------\n",
      "True label A |    22652   |     0\n",
      "             ------------------------\n",
      "           B |    1201    |     0\n",
      "\n",
      "Model Accuracy 94.96499392110007\n",
      "Model F1 0.0\n"
     ]
    },
    {
     "name": "stderr",
     "output_type": "stream",
     "text": [
      "C:\\Users\\VideoMachine\\anaconda3\\lib\\site-packages\\sklearn\\linear_model\\_sag.py:350: ConvergenceWarning: The max_iter was reached which means the coef_ did not converge\n",
      "  warnings.warn(\n"
     ]
    }
   ],
   "source": [
    "predicted = model(X_train_scaled, y_train, X_test_scaled)\n",
    "model_eval(y_test, predicted)-"
   ]
  },
  {
   "cell_type": "markdown",
   "id": "ff7b26b0",
   "metadata": {},
   "source": [
    "**Conclusions**"
   ]
  },
  {
   "cell_type": "markdown",
   "id": "976eb82f",
   "metadata": {},
   "source": [
    "**Analysing TARGET_B Distribuition**"
   ]
  },
  {
   "cell_type": "code",
   "execution_count": 55,
   "id": "4c8b6128",
   "metadata": {
    "ExecuteTime": {
     "end_time": "2022-10-19T21:21:19.423147Z",
     "start_time": "2022-10-19T21:21:19.318672Z"
    }
   },
   "outputs": [],
   "source": [
    "s_data = pd.concat([X_train_scaled, y_train], axis = 1)\n",
    "cat_1 = s_data[s_data['TARGET_B'] == 1]\n",
    "cat_0 = s_data[s_data['TARGET_B'] == 0]"
   ]
  },
  {
   "cell_type": "code",
   "execution_count": 67,
   "id": "e3633618",
   "metadata": {
    "ExecuteTime": {
     "end_time": "2022-10-19T21:31:11.085560Z",
     "start_time": "2022-10-19T21:31:11.016505Z"
    }
   },
   "outputs": [
    {
     "data": {
      "image/png": "[encoded data removed]",
      "text/plain": [
       "<Figure size 288x576 with 1 Axes>"
      ]
     },
     "metadata": {
      "needs_background": "light"
     },
     "output_type": "display_data"
    }
   ],
   "source": [
    "ax = s_data['TARGET_B'].value_counts().plot(kind='bar',\n",
    "                                    figsize=(4,8),\n",
    "                                    title=\"TARGET_B Count\")\n",
    "ax.set_xlabel(\"Value\")\n",
    "ax.set_ylabel(\"Count\")\n",
    "plt.show()"
   ]
  },
  {
   "cell_type": "markdown",
   "id": "2eec5554",
   "metadata": {},
   "source": [
    "**Downsampling**"
   ]
  },
  {
   "cell_type": "code",
   "execution_count": 70,
   "id": "f4ea450e",
   "metadata": {
    "ExecuteTime": {
     "end_time": "2022-10-19T21:33:22.609321Z",
     "start_time": "2022-10-19T21:33:22.572288Z"
    }
   },
   "outputs": [],
   "source": [
    "cat_0_undersampled = resample(cat_0, replace=False, n_samples = len(cat_1))\n",
    "s_data_downsampled = pd.concat([cat_0_undersampled, cat_1], axis=0)"
   ]
  },
  {
   "cell_type": "code",
   "execution_count": 72,
   "id": "4fd59601",
   "metadata": {
    "ExecuteTime": {
     "end_time": "2022-10-19T21:33:41.767021Z",
     "start_time": "2022-10-19T21:33:41.753017Z"
    }
   },
   "outputs": [
    {
     "data": {
      "text/plain": [
       "(7284, 413)"
      ]
     },
     "execution_count": 72,
     "metadata": {},
     "output_type": "execute_result"
    }
   ],
   "source": [
    "s_data_downsampled.shape"
   ]
  },
  {
   "cell_type": "code",
   "execution_count": 74,
   "id": "9191201e",
   "metadata": {
    "ExecuteTime": {
     "end_time": "2022-10-19T21:35:58.579585Z",
     "start_time": "2022-10-19T21:35:55.226525Z"
    }
   },
   "outputs": [
    {
     "name": "stdout",
     "output_type": "stream",
     "text": [
      "\u001b[1m\u001b[91m      Logistics Regression\n",
      "\u001b[0m\n",
      "             Predicted Labels\n",
      "             |      A     |     B\n",
      "             ------------------------\n",
      "True label A |    12917   |     9735\n",
      "             ------------------------\n",
      "           B |    531    |     670\n",
      "\n",
      "Model Accuracy 56.961388504590616\n",
      "Model F1 11.545752197139409\n"
     ]
    },
    {
     "name": "stderr",
     "output_type": "stream",
     "text": [
      "C:\\Users\\VideoMachine\\anaconda3\\lib\\site-packages\\sklearn\\linear_model\\_sag.py:350: ConvergenceWarning: The max_iter was reached which means the coef_ did not converge\n",
      "  warnings.warn(\n"
     ]
    }
   ],
   "source": [
    "X_down = s_data_downsampled.drop(columns=['TARGET_B'])\n",
    "y_down = s_data_downsampled['TARGET_B']\n",
    "\n",
    "predicted = model(X_down, y_down, X_test_scaled)\n",
    "model_eval(y_test, predicted)"
   ]
  },
  {
   "cell_type": "markdown",
   "id": "9e303005",
   "metadata": {},
   "source": [
    "**Upsampling**"
   ]
  },
  {
   "cell_type": "code",
   "execution_count": 79,
   "id": "eb30dce6",
   "metadata": {
    "ExecuteTime": {
     "end_time": "2022-10-19T21:41:01.211394Z",
     "start_time": "2022-10-19T21:41:01.047505Z"
    }
   },
   "outputs": [],
   "source": [
    "cat_1_upsampled = resample(cat_1, replace=True, n_samples = len(cat_0))\n",
    "s_data_upsampled = pd.concat([cat_1_upsampled, cat_0], axis=0)"
   ]
  },
  {
   "cell_type": "code",
   "execution_count": 80,
   "id": "1caa2836",
   "metadata": {
    "ExecuteTime": {
     "end_time": "2022-10-19T21:41:03.594499Z",
     "start_time": "2022-10-19T21:41:03.583498Z"
    }
   },
   "outputs": [
    {
     "data": {
      "text/plain": [
       "(135834, 413)"
      ]
     },
     "execution_count": 80,
     "metadata": {},
     "output_type": "execute_result"
    }
   ],
   "source": [
    "s_data_upsampled.shape"
   ]
  },
  {
   "cell_type": "code",
   "execution_count": 81,
   "id": "8478c69d",
   "metadata": {
    "ExecuteTime": {
     "end_time": "2022-10-19T21:42:21.466145Z",
     "start_time": "2022-10-19T21:41:16.086492Z"
    }
   },
   "outputs": [
    {
     "name": "stdout",
     "output_type": "stream",
     "text": [
      "\u001b[1m\u001b[91m      Logistics Regression\n",
      "\u001b[0m\n",
      "             Predicted Labels\n",
      "             |      A     |     B\n",
      "             ------------------------\n",
      "True label A |    14081   |     8571\n",
      "             ------------------------\n",
      "           B |    571    |     630\n",
      "\n",
      "Model Accuracy 61.67358403555109\n",
      "Model F1 12.113055181695827\n"
     ]
    },
    {
     "name": "stderr",
     "output_type": "stream",
     "text": [
      "C:\\Users\\VideoMachine\\anaconda3\\lib\\site-packages\\sklearn\\linear_model\\_sag.py:350: ConvergenceWarning: The max_iter was reached which means the coef_ did not converge\n",
      "  warnings.warn(\n"
     ]
    }
   ],
   "source": [
    "X_up = s_data_upsampled.drop(columns=['TARGET_B'])\n",
    "y_up = s_data_upsampled['TARGET_B']\n",
    "\n",
    "predicted = model(X_up, y_up, X_test_scaled)\n",
    "model_eval(y_test, predicted)"
   ]
  },
  {
   "cell_type": "markdown",
   "id": "416555dd",
   "metadata": {},
   "source": [
    "**SMOTE**"
   ]
  },
  {
   "cell_type": "code",
   "execution_count": 83,
   "id": "58630114",
   "metadata": {
    "ExecuteTime": {
     "end_time": "2022-10-19T21:49:06.216161Z",
     "start_time": "2022-10-19T21:47:58.594416Z"
    }
   },
   "outputs": [
    {
     "name": "stdout",
     "output_type": "stream",
     "text": [
      "\u001b[1m\u001b[91m      Logistics Regression\n",
      "\u001b[0m\n",
      "             Predicted Labels\n",
      "             |      A     |     B\n",
      "             ------------------------\n",
      "True label A |    14161   |     8491\n",
      "             ------------------------\n",
      "           B |    593    |     608\n",
      "\n",
      "Model Accuracy 61.91674003270029\n",
      "Model F1 11.805825242718447\n"
     ]
    },
    {
     "name": "stderr",
     "output_type": "stream",
     "text": [
      "C:\\Users\\VideoMachine\\anaconda3\\lib\\site-packages\\sklearn\\linear_model\\_sag.py:350: ConvergenceWarning: The max_iter was reached which means the coef_ did not converge\n",
      "  warnings.warn(\n"
     ]
    }
   ],
   "source": [
    "X_smote = s_data.drop(columns=['TARGET_B'])\n",
    "y_smote = s_data['TARGET_B']\n",
    "\n",
    "smote = SMOTE(random_state=100, k_neighbors=3)\n",
    "X_S,y_S = smote.fit_resample(X_smote,y_smote)\n",
    "\n",
    "predicted = model(X_S, y_S, X_test_scaled)\n",
    "model_eval(y_test, predicted)"
   ]
  }
 ],
 "metadata": {
  "kernelspec": {
   "display_name": "Python 3 (ipykernel)",
   "language": "python",
   "name": "python3"
  },
  "language_info": {
   "codemirror_mode": {
    "name": "ipython",
    "version": 3
   },
   "file_extension": ".py",
   "mimetype": "text/x-python",
   "name": "python",
   "nbconvert_exporter": "python",
   "pygments_lexer": "ipython3",
   "version": "3.9.12"
  },
  "toc": {
   "base_numbering": 1,
   "nav_menu": {},
   "number_sections": true,
   "sideBar": true,
   "skip_h1_title": false,
   "title_cell": "Table of Contents",
   "title_sidebar": "Contents",
   "toc_cell": false,
   "toc_position": {},
   "toc_section_display": true,
   "toc_window_display": false
  }
 },
 "nbformat": 4,
 "nbformat_minor": 5
}
